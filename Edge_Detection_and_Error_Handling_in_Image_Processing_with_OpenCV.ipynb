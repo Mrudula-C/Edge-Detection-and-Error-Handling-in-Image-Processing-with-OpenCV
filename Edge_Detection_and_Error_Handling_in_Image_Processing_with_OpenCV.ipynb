{
  "nbformat": 4,
  "nbformat_minor": 0,
  "metadata": {
    "colab": {
      "provenance": []
    },
    "kernelspec": {
      "name": "python3",
      "display_name": "Python 3"
    },
    "language_info": {
      "name": "python"
    }
  },
  "cells": [
    {
      "cell_type": "code",
      "source": [
        "import cv2\n",
        "import matplotlib.pyplot as plt\n",
        "\n",
        "# Open the image\n",
        "img = cv2.imread('download.jpg')\n",
        "\n",
        "# Check if the image is loaded correctly\n",
        "if img is None:\n",
        "    print('Error: Image not loaded.')\n",
        "else:\n",
        "    # Apply Canny\n",
        "    edges = cv2.Canny(img, 100, 200, 3, L2gradient=True)\n",
        "\n",
        "    # Check if the edges image is empty\n",
        "    if edges is None or edges.size == 0:\n",
        "        print('Error: Canny edge detection failed.')\n",
        "    else:\n",
        "        # Save the image using OpenCV\n",
        "        cv2.imwrite('download-trace.png', edges)\n",
        "\n",
        "        # Display the image using Matplotlib\n",
        "        plt.figure()\n",
        "        plt.title('Mickey')\n",
        "        plt.imshow(edges, cmap='gray')\n",
        "        plt.show()\n"
      ],
      "metadata": {
        "colab": {
          "base_uri": "https://localhost:8080/"
        },
        "id": "Ez6waP9RMs0m",
        "outputId": "544f0fe3-1efd-43b1-d9ae-b29f15bd10a3"
      },
      "execution_count": 6,
      "outputs": [
        {
          "output_type": "stream",
          "name": "stdout",
          "text": [
            "Error: Image not loaded.\n"
          ]
        }
      ]
    },
    {
      "cell_type": "code",
      "source": [],
      "metadata": {
        "id": "dtCP05daMti0"
      },
      "execution_count": null,
      "outputs": []
    }
  ]
}